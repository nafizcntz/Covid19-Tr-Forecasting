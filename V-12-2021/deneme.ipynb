{
 "cells": [
  {
   "cell_type": "code",
   "execution_count": null,
   "id": "amazing-anthropology",
   "metadata": {},
   "outputs": [],
   "source": []
  },
  {
   "cell_type": "code",
   "execution_count": null,
   "id": "white-command",
   "metadata": {},
   "outputs": [],
   "source": [
    "xgb_tahmin_df['Tarih'] = np.nan\n",
    "for i in range(len(xgb_tahmin_df)):\n",
    "    for j in range(len(df)):\n",
    "        if(xgb_tahmin_df.iloc[i].name == df.index[j]):\n",
    "            xgb_tahmin_df[\"Tarih\"].loc[j] = df[\"Tarih\"].loc[j]"
   ]
  },
  {
   "cell_type": "code",
   "execution_count": null,
   "id": "magnetic-method",
   "metadata": {},
   "outputs": [],
   "source": [
    "xgb_tahmin_df.index = xgb_tahmin_df[\"Tarih\"]\n",
    "xgb_tahmin_df.index = pd.DatetimeIndex(xgb_tahmin_df.index)\n",
    "xgb_tahmin_df.drop([\"Tarih\"], axis=1, inplace=True)\n",
    "xgb_tahmin_df.head()"
   ]
  },
  {
   "cell_type": "code",
   "execution_count": null,
   "id": "recovered-aside",
   "metadata": {},
   "outputs": [],
   "source": []
  },
  {
   "cell_type": "code",
   "execution_count": null,
   "id": "amateur-evening",
   "metadata": {},
   "outputs": [],
   "source": []
  },
  {
   "cell_type": "markdown",
   "id": "metallic-bowling",
   "metadata": {},
   "source": [
    "### LSTM (Bitmedi..)"
   ]
  },
  {
   "cell_type": "code",
   "execution_count": 3,
   "id": "comfortable-opportunity",
   "metadata": {},
   "outputs": [
    {
     "ename": "ModuleNotFoundError",
     "evalue": "No module named 'keras'",
     "output_type": "error",
     "traceback": [
      "\u001b[1;31m---------------------------------------------------------------------------\u001b[0m",
      "\u001b[1;31mModuleNotFoundError\u001b[0m                       Traceback (most recent call last)",
      "\u001b[1;32m<ipython-input-3-2e71c9f33439>\u001b[0m in \u001b[0;36m<module>\u001b[1;34m\u001b[0m\n\u001b[0;32m      3\u001b[0m \u001b[1;32mimport\u001b[0m \u001b[0mmatplotlib\u001b[0m\u001b[1;33m.\u001b[0m\u001b[0mpylab\u001b[0m \u001b[1;32mas\u001b[0m \u001b[0mplt\u001b[0m\u001b[1;33m\u001b[0m\u001b[1;33m\u001b[0m\u001b[0m\n\u001b[0;32m      4\u001b[0m \u001b[1;32mimport\u001b[0m \u001b[0mmatplotlib\u001b[0m\u001b[1;33m.\u001b[0m\u001b[0mpatches\u001b[0m \u001b[1;32mas\u001b[0m \u001b[0mmpatches\u001b[0m\u001b[1;33m\u001b[0m\u001b[1;33m\u001b[0m\u001b[0m\n\u001b[1;32m----> 5\u001b[1;33m \u001b[1;32mfrom\u001b[0m \u001b[0mkeras\u001b[0m\u001b[1;33m.\u001b[0m\u001b[0mlayers\u001b[0m\u001b[1;33m.\u001b[0m\u001b[0mcore\u001b[0m \u001b[1;32mimport\u001b[0m \u001b[0mDense\u001b[0m\u001b[1;33m,\u001b[0m\u001b[0mActivation\u001b[0m\u001b[1;33m,\u001b[0m\u001b[0mDropout\u001b[0m\u001b[1;33m,\u001b[0m\u001b[0mFlatten\u001b[0m\u001b[1;33m,\u001b[0m\u001b[0mReshape\u001b[0m\u001b[1;33m\u001b[0m\u001b[1;33m\u001b[0m\u001b[0m\n\u001b[0m\u001b[0;32m      6\u001b[0m \u001b[1;32mfrom\u001b[0m \u001b[0mkeras\u001b[0m\u001b[1;33m.\u001b[0m\u001b[0mlayers\u001b[0m \u001b[1;32mimport\u001b[0m \u001b[0mLSTM\u001b[0m\u001b[1;33m\u001b[0m\u001b[1;33m\u001b[0m\u001b[0m\n\u001b[0;32m      7\u001b[0m \u001b[1;32mfrom\u001b[0m \u001b[0mkeras\u001b[0m\u001b[1;33m.\u001b[0m\u001b[0mmodels\u001b[0m \u001b[1;32mimport\u001b[0m \u001b[0mSequential\u001b[0m\u001b[1;33m\u001b[0m\u001b[1;33m\u001b[0m\u001b[0m\n",
      "\u001b[1;31mModuleNotFoundError\u001b[0m: No module named 'keras'"
     ]
    }
   ],
   "source": [
    "import pandas as pd\n",
    "import numpy as np\n",
    "import matplotlib.pylab as plt \n",
    "import matplotlib.patches as mpatches\n",
    "from keras.layers.core import Dense,Activation,Dropout,Flatten,Reshape\n",
    "from keras.layers import LSTM\n",
    "from keras.models import Sequential\n",
    "from sklearn.preprocessing import MinMaxScaler\n"
   ]
  },
  {
   "cell_type": "code",
   "execution_count": 2,
   "id": "entertaining-frame",
   "metadata": {},
   "outputs": [
    {
     "ename": "NameError",
     "evalue": "name 'df' is not defined",
     "output_type": "error",
     "traceback": [
      "\u001b[1;31m---------------------------------------------------------------------------\u001b[0m",
      "\u001b[1;31mNameError\u001b[0m                                 Traceback (most recent call last)",
      "\u001b[1;32m<ipython-input-2-e60586ac74cd>\u001b[0m in \u001b[0;36m<module>\u001b[1;34m\u001b[0m\n\u001b[1;32m----> 1\u001b[1;33m \u001b[0mlstm_df\u001b[0m \u001b[1;33m=\u001b[0m \u001b[0mdf\u001b[0m\u001b[1;33m[\u001b[0m\u001b[1;33m[\u001b[0m\u001b[1;34m\"Bugünkü Vaka Sayısı\"\u001b[0m\u001b[1;33m,\u001b[0m \u001b[1;34m\"Tarih\"\u001b[0m\u001b[1;33m]\u001b[0m\u001b[1;33m]\u001b[0m\u001b[1;33m\u001b[0m\u001b[1;33m\u001b[0m\u001b[0m\n\u001b[0m\u001b[0;32m      2\u001b[0m \u001b[0mlstm_df\u001b[0m\u001b[1;33m\u001b[0m\u001b[1;33m\u001b[0m\u001b[0m\n",
      "\u001b[1;31mNameError\u001b[0m: name 'df' is not defined"
     ]
    }
   ],
   "source": [
    "lstm_df = df[[\"Bugünkü Vaka Sayısı\", \"Tarih\"]]\n",
    "lstm_df"
   ]
  },
  {
   "cell_type": "code",
   "execution_count": 285,
   "id": "approved-grenada",
   "metadata": {},
   "outputs": [
    {
     "name": "stderr",
     "output_type": "stream",
     "text": [
      "D:\\C\\anaconda3\\lib\\site-packages\\pandas\\core\\frame.py:4308: SettingWithCopyWarning: \n",
      "A value is trying to be set on a copy of a slice from a DataFrame\n",
      "\n",
      "See the caveats in the documentation: https://pandas.pydata.org/pandas-docs/stable/user_guide/indexing.html#returning-a-view-versus-a-copy\n",
      "  return super().drop(\n"
     ]
    }
   ],
   "source": [
    "lstm_df.index = lstm_df[\"Tarih\"]\n",
    "lstm_df.index = pd.DatetimeIndex(lstm_df.index)\n",
    "lstm_df.drop([\"Tarih\"], axis=1, inplace=True)"
   ]
  },
  {
   "cell_type": "code",
   "execution_count": 286,
   "id": "married-poison",
   "metadata": {},
   "outputs": [
    {
     "data": {
      "text/html": [
       "<div>\n",
       "<style scoped>\n",
       "    .dataframe tbody tr th:only-of-type {\n",
       "        vertical-align: middle;\n",
       "    }\n",
       "\n",
       "    .dataframe tbody tr th {\n",
       "        vertical-align: top;\n",
       "    }\n",
       "\n",
       "    .dataframe thead th {\n",
       "        text-align: right;\n",
       "    }\n",
       "</style>\n",
       "<table border=\"1\" class=\"dataframe\">\n",
       "  <thead>\n",
       "    <tr style=\"text-align: right;\">\n",
       "      <th></th>\n",
       "      <th>Bugünkü Vaka Sayısı</th>\n",
       "    </tr>\n",
       "    <tr>\n",
       "      <th>Tarih</th>\n",
       "      <th></th>\n",
       "    </tr>\n",
       "  </thead>\n",
       "  <tbody>\n",
       "    <tr>\n",
       "      <th>2020-03-11</th>\n",
       "      <td>1</td>\n",
       "    </tr>\n",
       "    <tr>\n",
       "      <th>2020-03-12</th>\n",
       "      <td>0</td>\n",
       "    </tr>\n",
       "    <tr>\n",
       "      <th>2020-03-13</th>\n",
       "      <td>4</td>\n",
       "    </tr>\n",
       "    <tr>\n",
       "      <th>2020-03-14</th>\n",
       "      <td>1</td>\n",
       "    </tr>\n",
       "    <tr>\n",
       "      <th>2020-03-15</th>\n",
       "      <td>12</td>\n",
       "    </tr>\n",
       "    <tr>\n",
       "      <th>...</th>\n",
       "      <td>...</td>\n",
       "    </tr>\n",
       "    <tr>\n",
       "      <th>2021-04-19</th>\n",
       "      <td>55149</td>\n",
       "    </tr>\n",
       "    <tr>\n",
       "      <th>2021-04-20</th>\n",
       "      <td>61028</td>\n",
       "    </tr>\n",
       "    <tr>\n",
       "      <th>2021-04-21</th>\n",
       "      <td>61967</td>\n",
       "    </tr>\n",
       "    <tr>\n",
       "      <th>2021-04-22</th>\n",
       "      <td>54791</td>\n",
       "    </tr>\n",
       "    <tr>\n",
       "      <th>2021-04-23</th>\n",
       "      <td>49438</td>\n",
       "    </tr>\n",
       "  </tbody>\n",
       "</table>\n",
       "<p>409 rows × 1 columns</p>\n",
       "</div>"
      ],
      "text/plain": [
       "            Bugünkü Vaka Sayısı\n",
       "Tarih                          \n",
       "2020-03-11                    1\n",
       "2020-03-12                    0\n",
       "2020-03-13                    4\n",
       "2020-03-14                    1\n",
       "2020-03-15                   12\n",
       "...                         ...\n",
       "2021-04-19                55149\n",
       "2021-04-20                61028\n",
       "2021-04-21                61967\n",
       "2021-04-22                54791\n",
       "2021-04-23                49438\n",
       "\n",
       "[409 rows x 1 columns]"
      ]
     },
     "execution_count": 286,
     "metadata": {},
     "output_type": "execute_result"
    }
   ],
   "source": [
    "lstm_df"
   ]
  },
  {
   "cell_type": "code",
   "execution_count": 310,
   "id": "medium-pizza",
   "metadata": {},
   "outputs": [],
   "source": [
    "scaler = MinMaxScaler(feature_range=(0,1))\n",
    "ts = scaler.fit_transform(lstm_df)"
   ]
  },
  {
   "cell_type": "code",
   "execution_count": 311,
   "id": "decreased-muscle",
   "metadata": {},
   "outputs": [],
   "source": [
    "timestep=3\n",
    "X=[]\n",
    "Y=[]\n",
    "\n",
    "data = ts\n",
    "\n",
    "for i in range(len(data)-timestep):\n",
    "    X.append(data[i:i+timestep])\n",
    "    Y.append(data[i+timestep])\n",
    "\n",
    "X = np.asanyarray(X)\n",
    "Y = np.asanyarray(Y)\n",
    "\n",
    "X = X.reshape((X.shape[0],X.shape[1],1))\n",
    "\n",
    "\n",
    "k = 59\n",
    "Xtrain = X[:k,:,:]\n",
    "Ytrain = Y[:k]\n",
    "\n",
    "Xtest = X[k:,:,:]\n",
    "Ytest = Y[k:]"
   ]
  },
  {
   "cell_type": "code",
   "execution_count": 312,
   "id": "differential-elements",
   "metadata": {
    "collapsed": true,
    "jupyter": {
     "outputs_hidden": true
    },
    "tags": []
   },
   "outputs": [
    {
     "name": "stdout",
     "output_type": "stream",
     "text": [
      "Epoch 1/50\n",
      "1/1 [==============================] - 4s 4s/step - loss: 0.0020\n",
      "Epoch 2/50\n",
      "1/1 [==============================] - 0s 12ms/step - loss: 6.1338e-04\n",
      "Epoch 3/50\n",
      "1/1 [==============================] - 0s 14ms/step - loss: 4.9151e-04\n",
      "Epoch 4/50\n",
      "1/1 [==============================] - 0s 12ms/step - loss: 4.4878e-04\n",
      "Epoch 5/50\n",
      "1/1 [==============================] - 0s 18ms/step - loss: 4.4691e-04\n",
      "Epoch 6/50\n",
      "1/1 [==============================] - 0s 18ms/step - loss: 4.2435e-04\n",
      "Epoch 7/50\n",
      "1/1 [==============================] - 0s 11ms/step - loss: 4.5887e-04\n",
      "Epoch 8/50\n",
      "1/1 [==============================] - 0s 19ms/step - loss: 4.0805e-04\n",
      "Epoch 9/50\n",
      "1/1 [==============================] - 0s 15ms/step - loss: 4.1293e-04\n",
      "Epoch 10/50\n",
      "1/1 [==============================] - 0s 21ms/step - loss: 3.8001e-04\n",
      "Epoch 11/50\n",
      "1/1 [==============================] - 0s 15ms/step - loss: 3.5341e-04\n",
      "Epoch 12/50\n",
      "1/1 [==============================] - 0s 15ms/step - loss: 3.4036e-04\n",
      "Epoch 13/50\n",
      "1/1 [==============================] - 0s 19ms/step - loss: 3.4784e-04\n",
      "Epoch 14/50\n",
      "1/1 [==============================] - 0s 14ms/step - loss: 3.4584e-04\n",
      "Epoch 15/50\n",
      "1/1 [==============================] - 0s 16ms/step - loss: 3.4167e-04\n",
      "Epoch 16/50\n",
      "1/1 [==============================] - 0s 17ms/step - loss: 2.9404e-04\n",
      "Epoch 17/50\n",
      "1/1 [==============================] - 0s 14ms/step - loss: 3.5835e-04\n",
      "Epoch 18/50\n",
      "1/1 [==============================] - 0s 22ms/step - loss: 3.8516e-04\n",
      "Epoch 19/50\n",
      "1/1 [==============================] - 0s 13ms/step - loss: 3.6786e-04\n",
      "Epoch 20/50\n",
      "1/1 [==============================] - 0s 13ms/step - loss: 3.4015e-04\n",
      "Epoch 21/50\n",
      "1/1 [==============================] - 0s 16ms/step - loss: 2.7085e-04\n",
      "Epoch 22/50\n",
      "1/1 [==============================] - 0s 14ms/step - loss: 2.3365e-04\n",
      "Epoch 23/50\n",
      "1/1 [==============================] - 0s 14ms/step - loss: 2.3568e-04\n",
      "Epoch 24/50\n",
      "1/1 [==============================] - 0s 14ms/step - loss: 2.0498e-04\n",
      "Epoch 25/50\n",
      "1/1 [==============================] - 0s 17ms/step - loss: 2.0820e-04\n",
      "Epoch 26/50\n",
      "1/1 [==============================] - 0s 14ms/step - loss: 2.1346e-04\n",
      "Epoch 27/50\n",
      "1/1 [==============================] - 0s 19ms/step - loss: 2.2473e-04\n",
      "Epoch 28/50\n",
      "1/1 [==============================] - 0s 16ms/step - loss: 2.5127e-04\n",
      "Epoch 29/50\n",
      "1/1 [==============================] - 0s 15ms/step - loss: 2.4647e-04\n",
      "Epoch 30/50\n",
      "1/1 [==============================] - 0s 17ms/step - loss: 2.0453e-04\n",
      "Epoch 31/50\n",
      "1/1 [==============================] - 0s 11ms/step - loss: 2.1722e-04\n",
      "Epoch 32/50\n",
      "1/1 [==============================] - 0s 17ms/step - loss: 2.0433e-04\n",
      "Epoch 33/50\n",
      "1/1 [==============================] - 0s 16ms/step - loss: 1.7174e-04\n",
      "Epoch 34/50\n",
      "1/1 [==============================] - 0s 14ms/step - loss: 1.7568e-04\n",
      "Epoch 35/50\n",
      "1/1 [==============================] - 0s 12ms/step - loss: 1.7180e-04\n",
      "Epoch 36/50\n",
      "1/1 [==============================] - 0s 19ms/step - loss: 1.7242e-04\n",
      "Epoch 37/50\n",
      "1/1 [==============================] - 0s 12ms/step - loss: 1.3466e-04\n",
      "Epoch 38/50\n",
      "1/1 [==============================] - 0s 13ms/step - loss: 1.5945e-04\n",
      "Epoch 39/50\n",
      "1/1 [==============================] - 0s 13ms/step - loss: 1.9247e-04\n",
      "Epoch 40/50\n",
      "1/1 [==============================] - 0s 20ms/step - loss: 2.1183e-04\n",
      "Epoch 41/50\n",
      "1/1 [==============================] - 0s 11ms/step - loss: 1.7343e-04\n",
      "Epoch 42/50\n",
      "1/1 [==============================] - 0s 17ms/step - loss: 1.8872e-04\n",
      "Epoch 43/50\n",
      "1/1 [==============================] - 0s 15ms/step - loss: 1.7994e-04\n",
      "Epoch 44/50\n",
      "1/1 [==============================] - 0s 15ms/step - loss: 1.8078e-04\n",
      "Epoch 45/50\n",
      "1/1 [==============================] - 0s 15ms/step - loss: 1.6522e-04\n",
      "Epoch 46/50\n",
      "1/1 [==============================] - 0s 18ms/step - loss: 1.6303e-04\n",
      "Epoch 47/50\n",
      "1/1 [==============================] - 0s 11ms/step - loss: 1.5760e-04\n",
      "Epoch 48/50\n",
      "1/1 [==============================] - 0s 18ms/step - loss: 1.7534e-04\n",
      "Epoch 49/50\n",
      "1/1 [==============================] - 0s 13ms/step - loss: 1.3334e-04\n",
      "Epoch 50/50\n",
      "1/1 [==============================] - 0s 11ms/step - loss: 1.1824e-04\n"
     ]
    },
    {
     "data": {
      "text/plain": [
       "<tensorflow.python.keras.callbacks.History at 0x19dd1d877f0>"
      ]
     },
     "execution_count": 312,
     "metadata": {},
     "output_type": "execute_result"
    }
   ],
   "source": [
    "lstm_model = Sequential()\n",
    "lstm_model.add(LSTM(64,batch_input_shape=(None,timestep,1),return_sequences=True))\n",
    "lstm_model.add(Dropout(0.2))\n",
    "lstm_model.add(LSTM(32, return_sequences=False))\n",
    "lstm_model.add(Dropout(0.2))\n",
    "lstm_model.add(Dense(1))\n",
    "\n",
    "lstm_model.compile(loss='mse',optimizer='rmsprop')\n",
    "lstm_model.fit(Xtrain, Ytrain, batch_size=512, epochs=50)"
   ]
  },
  {
   "cell_type": "code",
   "execution_count": 313,
   "id": "applicable-street",
   "metadata": {},
   "outputs": [],
   "source": [
    "Ypred = lstm_model.predict(X)\n",
    "\n",
    "Ypred = scaler.inverse_transform(Ypred)\n",
    "Ypred = Ypred[:,0]"
   ]
  },
  {
   "cell_type": "code",
   "execution_count": 314,
   "id": "excess-concentrate",
   "metadata": {},
   "outputs": [
    {
     "data": {
      "image/png": "[encoded data removed]",
      "text/plain": [
       "<Figure size 432x288 with 1 Axes>"
      ]
     },
     "metadata": {
      "needs_background": "light"
     },
     "output_type": "display_data"
    }
   ],
   "source": [
    "Yreel = lstm_df[timestep:].values\n",
    "\n",
    "plt.plot(Yreel,label='Yreel',color='blue')\n",
    "plt.plot(Ypred,label='Ypred',color='red')\n",
    "\n",
    "blue_patch = mpatches.Patch(color='blue', label='Yreel')\n",
    "red_patch = mpatches.Patch(color='red', label='Ypred')\n",
    "plt.legend(handles = [blue_patch,red_patch])\n",
    "plt.title('RMSE: %.4f'% np.sqrt(sum((Ypred.reshape(-1,1)-Yreel.reshape(-1,1))**2)/len(Yreel)).astype(int))\n",
    "plt.show()"
   ]
  },
  {
   "cell_type": "code",
   "execution_count": null,
   "id": "exotic-monaco",
   "metadata": {},
   "outputs": [],
   "source": []
  },
  {
   "cell_type": "code",
   "execution_count": null,
   "id": "lucky-insert",
   "metadata": {},
   "outputs": [],
   "source": []
  },
  {
   "cell_type": "markdown",
   "id": "vital-revision",
   "metadata": {},
   "source": [
    "### PROPHET (FACEBOOK)"
   ]
  },
  {
   "cell_type": "code",
   "execution_count": 411,
   "id": "driving-toddler",
   "metadata": {},
   "outputs": [],
   "source": [
    "#!pip install pystan==2.19.1.1\n",
    "#!conda install -c conda-forge prophet -y\n",
    "#!pip install prophet"
   ]
  },
  {
   "cell_type": "code",
   "execution_count": 107,
   "id": "official-portal",
   "metadata": {
    "scrolled": true
   },
   "outputs": [
    {
     "ename": "ModuleNotFoundError",
     "evalue": "No module named 'prophet'",
     "output_type": "error",
     "traceback": [
      "\u001b[1;31m---------------------------------------------------------------------------\u001b[0m",
      "\u001b[1;31mModuleNotFoundError\u001b[0m                       Traceback (most recent call last)",
      "\u001b[1;32m<ipython-input-107-a5f73520e9d5>\u001b[0m in \u001b[0;36m<module>\u001b[1;34m\u001b[0m\n\u001b[1;32m----> 1\u001b[1;33m \u001b[1;32mfrom\u001b[0m \u001b[0mprophet\u001b[0m \u001b[1;32mimport\u001b[0m \u001b[0mProphet\u001b[0m\u001b[1;33m\u001b[0m\u001b[1;33m\u001b[0m\u001b[0m\n\u001b[0m",
      "\u001b[1;31mModuleNotFoundError\u001b[0m: No module named 'prophet'"
     ]
    }
   ],
   "source": [
    "from prophet import Prophet"
   ]
  },
  {
   "cell_type": "code",
   "execution_count": 401,
   "id": "infectious-cancer",
   "metadata": {},
   "outputs": [
    {
     "data": {
      "text/html": [
       "<div>\n",
       "<style scoped>\n",
       "    .dataframe tbody tr th:only-of-type {\n",
       "        vertical-align: middle;\n",
       "    }\n",
       "\n",
       "    .dataframe tbody tr th {\n",
       "        vertical-align: top;\n",
       "    }\n",
       "\n",
       "    .dataframe thead th {\n",
       "        text-align: right;\n",
       "    }\n",
       "</style>\n",
       "<table border=\"1\" class=\"dataframe\">\n",
       "  <thead>\n",
       "    <tr style=\"text-align: right;\">\n",
       "      <th></th>\n",
       "      <th>Tarih</th>\n",
       "      <th>Bugünkü Vaka Sayısı</th>\n",
       "    </tr>\n",
       "  </thead>\n",
       "  <tbody>\n",
       "    <tr>\n",
       "      <th>0</th>\n",
       "      <td>2020-03-11</td>\n",
       "      <td>1</td>\n",
       "    </tr>\n",
       "    <tr>\n",
       "      <th>1</th>\n",
       "      <td>2020-03-12</td>\n",
       "      <td>0</td>\n",
       "    </tr>\n",
       "    <tr>\n",
       "      <th>2</th>\n",
       "      <td>2020-03-13</td>\n",
       "      <td>4</td>\n",
       "    </tr>\n",
       "    <tr>\n",
       "      <th>3</th>\n",
       "      <td>2020-03-14</td>\n",
       "      <td>1</td>\n",
       "    </tr>\n",
       "    <tr>\n",
       "      <th>4</th>\n",
       "      <td>2020-03-15</td>\n",
       "      <td>12</td>\n",
       "    </tr>\n",
       "    <tr>\n",
       "      <th>...</th>\n",
       "      <td>...</td>\n",
       "      <td>...</td>\n",
       "    </tr>\n",
       "    <tr>\n",
       "      <th>404</th>\n",
       "      <td>2021-04-19</td>\n",
       "      <td>55149</td>\n",
       "    </tr>\n",
       "    <tr>\n",
       "      <th>405</th>\n",
       "      <td>2021-04-20</td>\n",
       "      <td>61028</td>\n",
       "    </tr>\n",
       "    <tr>\n",
       "      <th>406</th>\n",
       "      <td>2021-04-21</td>\n",
       "      <td>61967</td>\n",
       "    </tr>\n",
       "    <tr>\n",
       "      <th>407</th>\n",
       "      <td>2021-04-22</td>\n",
       "      <td>54791</td>\n",
       "    </tr>\n",
       "    <tr>\n",
       "      <th>408</th>\n",
       "      <td>2021-04-23</td>\n",
       "      <td>49438</td>\n",
       "    </tr>\n",
       "  </tbody>\n",
       "</table>\n",
       "<p>409 rows × 2 columns</p>\n",
       "</div>"
      ],
      "text/plain": [
       "          Tarih  Bugünkü Vaka Sayısı\n",
       "0    2020-03-11                    1\n",
       "1    2020-03-12                    0\n",
       "2    2020-03-13                    4\n",
       "3    2020-03-14                    1\n",
       "4    2020-03-15                   12\n",
       "..          ...                  ...\n",
       "404  2021-04-19                55149\n",
       "405  2021-04-20                61028\n",
       "406  2021-04-21                61967\n",
       "407  2021-04-22                54791\n",
       "408  2021-04-23                49438\n",
       "\n",
       "[409 rows x 2 columns]"
      ]
     },
     "execution_count": 401,
     "metadata": {},
     "output_type": "execute_result"
    }
   ],
   "source": [
    "prophet_df = df[[\"Tarih\", \"Bugünkü Vaka Sayısı\"]]\n",
    "prophet_df"
   ]
  },
  {
   "cell_type": "code",
   "execution_count": null,
   "id": "bigger-photographer",
   "metadata": {},
   "outputs": [],
   "source": [
    "m = Prophet(interval_width=0.95)\n",
    "m.fit(confirmed)\n",
    "future = m.make_future_dataframe(periods=7)\n",
    "future_confirmed = future.copy() # for non-baseline predictions later on\n",
    "future.tail()"
   ]
  },
  {
   "cell_type": "code",
   "execution_count": null,
   "id": "enhanced-tolerance",
   "metadata": {},
   "outputs": [],
   "source": []
  },
  {
   "cell_type": "code",
   "execution_count": 411,
   "id": "golden-corrections",
   "metadata": {},
   "outputs": [],
   "source": [
    "#!pip install pystan==2.19.1.1\n",
    "#!conda install -c conda-forge prophet -y\n",
    "#!pip install prophet"
   ]
  },
  {
   "cell_type": "code",
   "execution_count": 23,
   "id": "naked-exposure",
   "metadata": {
    "scrolled": true
   },
   "outputs": [],
   "source": [
    "from prophet import Prophet"
   ]
  },
  {
   "cell_type": "code",
   "execution_count": 94,
   "id": "friendly-namibia",
   "metadata": {},
   "outputs": [
    {
     "data": {
      "text/html": [
       "<div>\n",
       "<style scoped>\n",
       "    .dataframe tbody tr th:only-of-type {\n",
       "        vertical-align: middle;\n",
       "    }\n",
       "\n",
       "    .dataframe tbody tr th {\n",
       "        vertical-align: top;\n",
       "    }\n",
       "\n",
       "    .dataframe thead th {\n",
       "        text-align: right;\n",
       "    }\n",
       "</style>\n",
       "<table border=\"1\" class=\"dataframe\">\n",
       "  <thead>\n",
       "    <tr style=\"text-align: right;\">\n",
       "      <th></th>\n",
       "      <th>ds</th>\n",
       "      <th>y</th>\n",
       "    </tr>\n",
       "  </thead>\n",
       "  <tbody>\n",
       "    <tr>\n",
       "      <th>0</th>\n",
       "      <td>2020-03-11</td>\n",
       "      <td>1</td>\n",
       "    </tr>\n",
       "    <tr>\n",
       "      <th>1</th>\n",
       "      <td>2020-03-12</td>\n",
       "      <td>0</td>\n",
       "    </tr>\n",
       "    <tr>\n",
       "      <th>2</th>\n",
       "      <td>2020-03-13</td>\n",
       "      <td>4</td>\n",
       "    </tr>\n",
       "    <tr>\n",
       "      <th>3</th>\n",
       "      <td>2020-03-14</td>\n",
       "      <td>1</td>\n",
       "    </tr>\n",
       "    <tr>\n",
       "      <th>4</th>\n",
       "      <td>2020-03-15</td>\n",
       "      <td>12</td>\n",
       "    </tr>\n",
       "    <tr>\n",
       "      <th>...</th>\n",
       "      <td>...</td>\n",
       "      <td>...</td>\n",
       "    </tr>\n",
       "    <tr>\n",
       "      <th>404</th>\n",
       "      <td>2021-04-19</td>\n",
       "      <td>55149</td>\n",
       "    </tr>\n",
       "    <tr>\n",
       "      <th>405</th>\n",
       "      <td>2021-04-20</td>\n",
       "      <td>61028</td>\n",
       "    </tr>\n",
       "    <tr>\n",
       "      <th>406</th>\n",
       "      <td>2021-04-21</td>\n",
       "      <td>61967</td>\n",
       "    </tr>\n",
       "    <tr>\n",
       "      <th>407</th>\n",
       "      <td>2021-04-22</td>\n",
       "      <td>54791</td>\n",
       "    </tr>\n",
       "    <tr>\n",
       "      <th>408</th>\n",
       "      <td>2021-04-23</td>\n",
       "      <td>49438</td>\n",
       "    </tr>\n",
       "  </tbody>\n",
       "</table>\n",
       "<p>409 rows × 2 columns</p>\n",
       "</div>"
      ],
      "text/plain": [
       "             ds      y\n",
       "0    2020-03-11      1\n",
       "1    2020-03-12      0\n",
       "2    2020-03-13      4\n",
       "3    2020-03-14      1\n",
       "4    2020-03-15     12\n",
       "..          ...    ...\n",
       "404  2021-04-19  55149\n",
       "405  2021-04-20  61028\n",
       "406  2021-04-21  61967\n",
       "407  2021-04-22  54791\n",
       "408  2021-04-23  49438\n",
       "\n",
       "[409 rows x 2 columns]"
      ]
     },
     "execution_count": 94,
     "metadata": {},
     "output_type": "execute_result"
    }
   ],
   "source": [
    "prophet_df = df[[\"Tarih\", \"Bugünkü Vaka Sayısı\"]]\n",
    "prophet_df.columns =[\"ds\", \"y\"]\n",
    "prophet_df"
   ]
  },
  {
   "cell_type": "code",
   "execution_count": null,
   "id": "raised-night",
   "metadata": {},
   "outputs": [],
   "source": []
  },
  {
   "cell_type": "code",
   "execution_count": 95,
   "id": "sensitive-ensemble",
   "metadata": {},
   "outputs": [
    {
     "name": "stderr",
     "output_type": "stream",
     "text": [
      "INFO:prophet:Disabling yearly seasonality. Run prophet with yearly_seasonality=True to override this.\n",
      "INFO:prophet:Disabling daily seasonality. Run prophet with daily_seasonality=True to override this.\n"
     ]
    },
    {
     "data": {
      "text/html": [
       "<div>\n",
       "<style scoped>\n",
       "    .dataframe tbody tr th:only-of-type {\n",
       "        vertical-align: middle;\n",
       "    }\n",
       "\n",
       "    .dataframe tbody tr th {\n",
       "        vertical-align: top;\n",
       "    }\n",
       "\n",
       "    .dataframe thead th {\n",
       "        text-align: right;\n",
       "    }\n",
       "</style>\n",
       "<table border=\"1\" class=\"dataframe\">\n",
       "  <thead>\n",
       "    <tr style=\"text-align: right;\">\n",
       "      <th></th>\n",
       "      <th>ds</th>\n",
       "    </tr>\n",
       "  </thead>\n",
       "  <tbody>\n",
       "    <tr>\n",
       "      <th>0</th>\n",
       "      <td>2020-03-11</td>\n",
       "    </tr>\n",
       "    <tr>\n",
       "      <th>1</th>\n",
       "      <td>2020-03-12</td>\n",
       "    </tr>\n",
       "    <tr>\n",
       "      <th>2</th>\n",
       "      <td>2020-03-13</td>\n",
       "    </tr>\n",
       "    <tr>\n",
       "      <th>3</th>\n",
       "      <td>2020-03-14</td>\n",
       "    </tr>\n",
       "    <tr>\n",
       "      <th>4</th>\n",
       "      <td>2020-03-15</td>\n",
       "    </tr>\n",
       "    <tr>\n",
       "      <th>...</th>\n",
       "      <td>...</td>\n",
       "    </tr>\n",
       "    <tr>\n",
       "      <th>411</th>\n",
       "      <td>2021-04-26</td>\n",
       "    </tr>\n",
       "    <tr>\n",
       "      <th>412</th>\n",
       "      <td>2021-04-27</td>\n",
       "    </tr>\n",
       "    <tr>\n",
       "      <th>413</th>\n",
       "      <td>2021-04-28</td>\n",
       "    </tr>\n",
       "    <tr>\n",
       "      <th>414</th>\n",
       "      <td>2021-04-29</td>\n",
       "    </tr>\n",
       "    <tr>\n",
       "      <th>415</th>\n",
       "      <td>2021-04-30</td>\n",
       "    </tr>\n",
       "  </tbody>\n",
       "</table>\n",
       "<p>416 rows × 1 columns</p>\n",
       "</div>"
      ],
      "text/plain": [
       "            ds\n",
       "0   2020-03-11\n",
       "1   2020-03-12\n",
       "2   2020-03-13\n",
       "3   2020-03-14\n",
       "4   2020-03-15\n",
       "..         ...\n",
       "411 2021-04-26\n",
       "412 2021-04-27\n",
       "413 2021-04-28\n",
       "414 2021-04-29\n",
       "415 2021-04-30\n",
       "\n",
       "[416 rows x 1 columns]"
      ]
     },
     "execution_count": 95,
     "metadata": {},
     "output_type": "execute_result"
    }
   ],
   "source": [
    "m = Prophet(interval_width=0.95)\n",
    "m.fit(prophet_df)\n",
    "future = m.make_future_dataframe(periods=7)\n",
    "future_confirmed = future.copy() # for non-baseline predictions later on\n",
    "future"
   ]
  },
  {
   "cell_type": "code",
   "execution_count": 96,
   "id": "received-makeup",
   "metadata": {},
   "outputs": [],
   "source": [
    "forecast = m.predict(future)\n",
    "forecast[['ds', 'yhat', 'yhat_lower', 'yhat_upper']].tail()\n",
    "forecast=forecast.join(prophet_df['y'])"
   ]
  },
  {
   "cell_type": "code",
   "execution_count": 63,
   "id": "proper-assurance",
   "metadata": {},
   "outputs": [],
   "source": [
    "fr_df=forecast[['ds','yhat', 'y']]"
   ]
  },
  {
   "cell_type": "code",
   "execution_count": 64,
   "id": "vietnamese-holocaust",
   "metadata": {},
   "outputs": [
    {
     "name": "stderr",
     "output_type": "stream",
     "text": [
      "C:\\Users\\Laptop\\anaconda3\\envs\\qkitchen\\lib\\site-packages\\pandas\\core\\frame.py:3990: SettingWithCopyWarning:\n",
      "\n",
      "\n",
      "A value is trying to be set on a copy of a slice from a DataFrame\n",
      "\n",
      "See the caveats in the documentation: https://pandas.pydata.org/pandas-docs/stable/user_guide/indexing.html#returning-a-view-versus-a-copy\n",
      "\n"
     ]
    },
    {
     "data": {
      "text/html": [
       "<div>\n",
       "<style scoped>\n",
       "    .dataframe tbody tr th:only-of-type {\n",
       "        vertical-align: middle;\n",
       "    }\n",
       "\n",
       "    .dataframe tbody tr th {\n",
       "        vertical-align: top;\n",
       "    }\n",
       "\n",
       "    .dataframe thead th {\n",
       "        text-align: right;\n",
       "    }\n",
       "</style>\n",
       "<table border=\"1\" class=\"dataframe\">\n",
       "  <thead>\n",
       "    <tr style=\"text-align: right;\">\n",
       "      <th></th>\n",
       "      <th>yhat</th>\n",
       "      <th>y</th>\n",
       "    </tr>\n",
       "    <tr>\n",
       "      <th>ds</th>\n",
       "      <th></th>\n",
       "      <th></th>\n",
       "    </tr>\n",
       "  </thead>\n",
       "  <tbody>\n",
       "    <tr>\n",
       "      <th>2020-03-11</th>\n",
       "      <td>969.325563</td>\n",
       "      <td>1.0</td>\n",
       "    </tr>\n",
       "    <tr>\n",
       "      <th>2020-03-12</th>\n",
       "      <td>1009.179700</td>\n",
       "      <td>0.0</td>\n",
       "    </tr>\n",
       "    <tr>\n",
       "      <th>2020-03-13</th>\n",
       "      <td>902.105445</td>\n",
       "      <td>4.0</td>\n",
       "    </tr>\n",
       "    <tr>\n",
       "      <th>2020-03-14</th>\n",
       "      <td>436.197546</td>\n",
       "      <td>1.0</td>\n",
       "    </tr>\n",
       "    <tr>\n",
       "      <th>2020-03-15</th>\n",
       "      <td>-205.234763</td>\n",
       "      <td>12.0</td>\n",
       "    </tr>\n",
       "    <tr>\n",
       "      <th>...</th>\n",
       "      <td>...</td>\n",
       "      <td>...</td>\n",
       "    </tr>\n",
       "    <tr>\n",
       "      <th>2021-11-09</th>\n",
       "      <td>106746.557182</td>\n",
       "      <td>NaN</td>\n",
       "    </tr>\n",
       "    <tr>\n",
       "      <th>2021-11-10</th>\n",
       "      <td>107217.750841</td>\n",
       "      <td>NaN</td>\n",
       "    </tr>\n",
       "    <tr>\n",
       "      <th>2021-11-11</th>\n",
       "      <td>107573.511795</td>\n",
       "      <td>NaN</td>\n",
       "    </tr>\n",
       "    <tr>\n",
       "      <th>2021-11-12</th>\n",
       "      <td>107782.344357</td>\n",
       "      <td>NaN</td>\n",
       "    </tr>\n",
       "    <tr>\n",
       "      <th>2021-11-13</th>\n",
       "      <td>107632.343274</td>\n",
       "      <td>NaN</td>\n",
       "    </tr>\n",
       "  </tbody>\n",
       "</table>\n",
       "<p>613 rows × 2 columns</p>\n",
       "</div>"
      ],
      "text/plain": [
       "                     yhat     y\n",
       "ds                             \n",
       "2020-03-11     969.325563   1.0\n",
       "2020-03-12    1009.179700   0.0\n",
       "2020-03-13     902.105445   4.0\n",
       "2020-03-14     436.197546   1.0\n",
       "2020-03-15    -205.234763  12.0\n",
       "...                   ...   ...\n",
       "2021-11-09  106746.557182   NaN\n",
       "2021-11-10  107217.750841   NaN\n",
       "2021-11-11  107573.511795   NaN\n",
       "2021-11-12  107782.344357   NaN\n",
       "2021-11-13  107632.343274   NaN\n",
       "\n",
       "[613 rows x 2 columns]"
      ]
     },
     "execution_count": 64,
     "metadata": {},
     "output_type": "execute_result"
    }
   ],
   "source": [
    "fr_df.index = fr_df[\"ds\"]\n",
    "fr_df.index = pd.DatetimeIndex(fr_df.index)\n",
    "fr_df.drop([\"ds\"], axis=1, inplace=True)\n",
    "fr_df"
   ]
  },
  {
   "cell_type": "code",
   "execution_count": 65,
   "id": "continuous-astronomy",
   "metadata": {},
   "outputs": [
    {
     "data": {
      "text/plain": [
       "<matplotlib.legend.Legend at 0x2a5e5f79af0>"
      ]
     },
     "execution_count": 65,
     "metadata": {},
     "output_type": "execute_result"
    },
    {
     "data": {
      "image/png": "[encoded data removed]",
      "text/plain": [
       "<Figure size 1800x360 with 1 Axes>"
      ]
     },
     "metadata": {
      "needs_background": "light"
     },
     "output_type": "display_data"
    }
   ],
   "source": [
    "fig, ax = plt.subplots(figsize=(25,5))\n",
    "plt.suptitle('GRADIENT BOOSTING REGRESSOR', fontsize = 20)\n",
    "plt.title(\"Test Verisi Üzerinde Gerçek ve Tahmin Vaka Sayıları\")\n",
    "ax.xaxis.set_major_locator(dates.DayLocator(interval = 20))\n",
    "date_form = DateFormatter(\"%Y-%m-%d\")\n",
    "ax.xaxis.set_major_formatter(date_form)\n",
    "plt.xticks(rotation = 50)\n",
    "ax.plot(fr_df['y'],lw=2,color=\"#008000\")\n",
    "ax.plot(fr_df['yhat'],lw=2,color=\"#FF0000\")\n",
    "ax.legend(['Gerçek','Tahmin'])"
   ]
  },
  {
   "cell_type": "code",
   "execution_count": 91,
   "id": "rotary-austin",
   "metadata": {
    "collapsed": true,
    "jupyter": {
     "outputs_hidden": true
    }
   },
   "outputs": [
    {
     "name": "stderr",
     "output_type": "stream",
     "text": [
      "INFO:prophet:Making 39 forecasts with cutoffs between 2020-03-29 00:00:00 and 2021-04-13 00:00:00\n"
     ]
    },
    {
     "data": {
      "application/vnd.jupyter.widget-view+json": {
       "model_id": "27679a685e51466da446d94ee0de88b4",
       "version_major": 2,
       "version_minor": 0
      },
      "text/plain": [
       "HBox(children=(FloatProgress(value=0.0, max=39.0), HTML(value='')))"
      ]
     },
     "metadata": {},
     "output_type": "display_data"
    },
    {
     "name": "stderr",
     "output_type": "stream",
     "text": [
      "INFO:prophet:n_changepoints greater than number of observations. Using 14.\n",
      "INFO:prophet:n_changepoints greater than number of observations. Using 22.\n"
     ]
    },
    {
     "ename": "KeyboardInterrupt",
     "evalue": "",
     "output_type": "error",
     "traceback": [
      "\u001b[1;31m---------------------------------------------------------------------------\u001b[0m",
      "\u001b[1;31mKeyboardInterrupt\u001b[0m                         Traceback (most recent call last)",
      "\u001b[1;32m<ipython-input-91-00db29082444>\u001b[0m in \u001b[0;36m<module>\u001b[1;34m\u001b[0m\n\u001b[0;32m      1\u001b[0m \u001b[1;32mfrom\u001b[0m \u001b[0mprophet\u001b[0m\u001b[1;33m.\u001b[0m\u001b[0mdiagnostics\u001b[0m \u001b[1;32mimport\u001b[0m \u001b[0mcross_validation\u001b[0m\u001b[1;33m\u001b[0m\u001b[1;33m\u001b[0m\u001b[0m\n\u001b[1;32m----> 2\u001b[1;33m \u001b[0mforecast\u001b[0m \u001b[1;33m=\u001b[0m \u001b[0mcross_validation\u001b[0m\u001b[1;33m(\u001b[0m\u001b[0mm\u001b[0m\u001b[1;33m,\u001b[0m \u001b[0minitial\u001b[0m\u001b[1;33m=\u001b[0m\u001b[1;34m'10 days'\u001b[0m\u001b[1;33m,\u001b[0m \u001b[0mperiod\u001b[0m\u001b[1;33m=\u001b[0m\u001b[1;34m'10 days'\u001b[0m\u001b[1;33m,\u001b[0m \u001b[0mhorizon\u001b[0m \u001b[1;33m=\u001b[0m \u001b[1;34m'10 days'\u001b[0m\u001b[1;33m)\u001b[0m\u001b[1;33m\u001b[0m\u001b[1;33m\u001b[0m\u001b[0m\n\u001b[0m",
      "\u001b[1;32m~\\anaconda3\\envs\\qkitchen\\lib\\site-packages\\prophet\\diagnostics.py\u001b[0m in \u001b[0;36mcross_validation\u001b[1;34m(model, horizon, period, initial, parallel, cutoffs, disable_tqdm)\u001b[0m\n\u001b[0;32m    194\u001b[0m \u001b[1;33m\u001b[0m\u001b[0m\n\u001b[0;32m    195\u001b[0m     \u001b[1;32melse\u001b[0m\u001b[1;33m:\u001b[0m\u001b[1;33m\u001b[0m\u001b[1;33m\u001b[0m\u001b[0m\n\u001b[1;32m--> 196\u001b[1;33m         predicts = [\n\u001b[0m\u001b[0;32m    197\u001b[0m             \u001b[0msingle_cutoff_forecast\u001b[0m\u001b[1;33m(\u001b[0m\u001b[0mdf\u001b[0m\u001b[1;33m,\u001b[0m \u001b[0mmodel\u001b[0m\u001b[1;33m,\u001b[0m \u001b[0mcutoff\u001b[0m\u001b[1;33m,\u001b[0m \u001b[0mhorizon\u001b[0m\u001b[1;33m,\u001b[0m \u001b[0mpredict_columns\u001b[0m\u001b[1;33m)\u001b[0m\u001b[1;33m\u001b[0m\u001b[1;33m\u001b[0m\u001b[0m\n\u001b[0;32m    198\u001b[0m             \u001b[1;32mfor\u001b[0m \u001b[0mcutoff\u001b[0m \u001b[1;32min\u001b[0m \u001b[1;33m(\u001b[0m\u001b[0mtqdm\u001b[0m\u001b[1;33m(\u001b[0m\u001b[0mcutoffs\u001b[0m\u001b[1;33m)\u001b[0m \u001b[1;32mif\u001b[0m \u001b[1;32mnot\u001b[0m \u001b[0mdisable_tqdm\u001b[0m \u001b[1;32melse\u001b[0m \u001b[0mcutoffs\u001b[0m\u001b[1;33m)\u001b[0m\u001b[1;33m\u001b[0m\u001b[1;33m\u001b[0m\u001b[0m\n",
      "\u001b[1;32m~\\anaconda3\\envs\\qkitchen\\lib\\site-packages\\prophet\\diagnostics.py\u001b[0m in \u001b[0;36m<listcomp>\u001b[1;34m(.0)\u001b[0m\n\u001b[0;32m    195\u001b[0m     \u001b[1;32melse\u001b[0m\u001b[1;33m:\u001b[0m\u001b[1;33m\u001b[0m\u001b[1;33m\u001b[0m\u001b[0m\n\u001b[0;32m    196\u001b[0m         predicts = [\n\u001b[1;32m--> 197\u001b[1;33m             \u001b[0msingle_cutoff_forecast\u001b[0m\u001b[1;33m(\u001b[0m\u001b[0mdf\u001b[0m\u001b[1;33m,\u001b[0m \u001b[0mmodel\u001b[0m\u001b[1;33m,\u001b[0m \u001b[0mcutoff\u001b[0m\u001b[1;33m,\u001b[0m \u001b[0mhorizon\u001b[0m\u001b[1;33m,\u001b[0m \u001b[0mpredict_columns\u001b[0m\u001b[1;33m)\u001b[0m\u001b[1;33m\u001b[0m\u001b[1;33m\u001b[0m\u001b[0m\n\u001b[0m\u001b[0;32m    198\u001b[0m             \u001b[1;32mfor\u001b[0m \u001b[0mcutoff\u001b[0m \u001b[1;32min\u001b[0m \u001b[1;33m(\u001b[0m\u001b[0mtqdm\u001b[0m\u001b[1;33m(\u001b[0m\u001b[0mcutoffs\u001b[0m\u001b[1;33m)\u001b[0m \u001b[1;32mif\u001b[0m \u001b[1;32mnot\u001b[0m \u001b[0mdisable_tqdm\u001b[0m \u001b[1;32melse\u001b[0m \u001b[0mcutoffs\u001b[0m\u001b[1;33m)\u001b[0m\u001b[1;33m\u001b[0m\u001b[1;33m\u001b[0m\u001b[0m\n\u001b[0;32m    199\u001b[0m         ]\n",
      "\u001b[1;32m~\\anaconda3\\envs\\qkitchen\\lib\\site-packages\\prophet\\diagnostics.py\u001b[0m in \u001b[0;36msingle_cutoff_forecast\u001b[1;34m(df, model, cutoff, horizon, predict_columns)\u001b[0m\n\u001b[0;32m    248\u001b[0m         \u001b[1;32mfor\u001b[0m \u001b[0mprops\u001b[0m \u001b[1;32min\u001b[0m \u001b[0mm\u001b[0m\u001b[1;33m.\u001b[0m\u001b[0mseasonalities\u001b[0m\u001b[1;33m.\u001b[0m\u001b[0mvalues\u001b[0m\u001b[1;33m(\u001b[0m\u001b[1;33m)\u001b[0m\u001b[1;33m\u001b[0m\u001b[1;33m\u001b[0m\u001b[0m\n\u001b[0;32m    249\u001b[0m         if props['condition_name'] is not None])\n\u001b[1;32m--> 250\u001b[1;33m     \u001b[0myhat\u001b[0m \u001b[1;33m=\u001b[0m \u001b[0mm\u001b[0m\u001b[1;33m.\u001b[0m\u001b[0mpredict\u001b[0m\u001b[1;33m(\u001b[0m\u001b[0mdf\u001b[0m\u001b[1;33m[\u001b[0m\u001b[0mindex_predicted\u001b[0m\u001b[1;33m]\u001b[0m\u001b[1;33m[\u001b[0m\u001b[0mcolumns\u001b[0m\u001b[1;33m]\u001b[0m\u001b[1;33m)\u001b[0m\u001b[1;33m\u001b[0m\u001b[1;33m\u001b[0m\u001b[0m\n\u001b[0m\u001b[0;32m    251\u001b[0m     \u001b[1;31m# Merge yhat(predicts), y(df, original data) and cutoff\u001b[0m\u001b[1;33m\u001b[0m\u001b[1;33m\u001b[0m\u001b[1;33m\u001b[0m\u001b[0m\n\u001b[0;32m    252\u001b[0m \u001b[1;33m\u001b[0m\u001b[0m\n",
      "\u001b[1;32m~\\anaconda3\\envs\\qkitchen\\lib\\site-packages\\prophet\\forecaster.py\u001b[0m in \u001b[0;36mpredict\u001b[1;34m(self, df)\u001b[0m\n\u001b[0;32m   1208\u001b[0m         \u001b[0mseasonal_components\u001b[0m \u001b[1;33m=\u001b[0m \u001b[0mself\u001b[0m\u001b[1;33m.\u001b[0m\u001b[0mpredict_seasonal_components\u001b[0m\u001b[1;33m(\u001b[0m\u001b[0mdf\u001b[0m\u001b[1;33m)\u001b[0m\u001b[1;33m\u001b[0m\u001b[1;33m\u001b[0m\u001b[0m\n\u001b[0;32m   1209\u001b[0m         \u001b[1;32mif\u001b[0m \u001b[0mself\u001b[0m\u001b[1;33m.\u001b[0m\u001b[0muncertainty_samples\u001b[0m\u001b[1;33m:\u001b[0m\u001b[1;33m\u001b[0m\u001b[1;33m\u001b[0m\u001b[0m\n\u001b[1;32m-> 1210\u001b[1;33m             \u001b[0mintervals\u001b[0m \u001b[1;33m=\u001b[0m \u001b[0mself\u001b[0m\u001b[1;33m.\u001b[0m\u001b[0mpredict_uncertainty\u001b[0m\u001b[1;33m(\u001b[0m\u001b[0mdf\u001b[0m\u001b[1;33m)\u001b[0m\u001b[1;33m\u001b[0m\u001b[1;33m\u001b[0m\u001b[0m\n\u001b[0m\u001b[0;32m   1211\u001b[0m         \u001b[1;32melse\u001b[0m\u001b[1;33m:\u001b[0m\u001b[1;33m\u001b[0m\u001b[1;33m\u001b[0m\u001b[0m\n\u001b[0;32m   1212\u001b[0m             \u001b[0mintervals\u001b[0m \u001b[1;33m=\u001b[0m \u001b[1;32mNone\u001b[0m\u001b[1;33m\u001b[0m\u001b[1;33m\u001b[0m\u001b[0m\n",
      "\u001b[1;32m~\\anaconda3\\envs\\qkitchen\\lib\\site-packages\\prophet\\forecaster.py\u001b[0m in \u001b[0;36mpredict_uncertainty\u001b[1;34m(self, df)\u001b[0m\n\u001b[0;32m   1439\u001b[0m         \u001b[0mDataframe\u001b[0m \u001b[1;32mwith\u001b[0m \u001b[0muncertainty\u001b[0m \u001b[0mintervals\u001b[0m\u001b[1;33m.\u001b[0m\u001b[1;33m\u001b[0m\u001b[1;33m\u001b[0m\u001b[0m\n\u001b[0;32m   1440\u001b[0m         \"\"\"\n\u001b[1;32m-> 1441\u001b[1;33m         \u001b[0msim_values\u001b[0m \u001b[1;33m=\u001b[0m \u001b[0mself\u001b[0m\u001b[1;33m.\u001b[0m\u001b[0msample_posterior_predictive\u001b[0m\u001b[1;33m(\u001b[0m\u001b[0mdf\u001b[0m\u001b[1;33m)\u001b[0m\u001b[1;33m\u001b[0m\u001b[1;33m\u001b[0m\u001b[0m\n\u001b[0m\u001b[0;32m   1442\u001b[0m \u001b[1;33m\u001b[0m\u001b[0m\n\u001b[0;32m   1443\u001b[0m         \u001b[0mlower_p\u001b[0m \u001b[1;33m=\u001b[0m \u001b[1;36m100\u001b[0m \u001b[1;33m*\u001b[0m \u001b[1;33m(\u001b[0m\u001b[1;36m1.0\u001b[0m \u001b[1;33m-\u001b[0m \u001b[0mself\u001b[0m\u001b[1;33m.\u001b[0m\u001b[0minterval_width\u001b[0m\u001b[1;33m)\u001b[0m \u001b[1;33m/\u001b[0m \u001b[1;36m2\u001b[0m\u001b[1;33m\u001b[0m\u001b[1;33m\u001b[0m\u001b[0m\n",
      "\u001b[1;32m~\\anaconda3\\envs\\qkitchen\\lib\\site-packages\\prophet\\forecaster.py\u001b[0m in \u001b[0;36msample_posterior_predictive\u001b[1;34m(self, df)\u001b[0m\n\u001b[0;32m   1392\u001b[0m         \u001b[1;32mfor\u001b[0m \u001b[0mi\u001b[0m \u001b[1;32min\u001b[0m \u001b[0mrange\u001b[0m\u001b[1;33m(\u001b[0m\u001b[0mn_iterations\u001b[0m\u001b[1;33m)\u001b[0m\u001b[1;33m:\u001b[0m\u001b[1;33m\u001b[0m\u001b[1;33m\u001b[0m\u001b[0m\n\u001b[0;32m   1393\u001b[0m             \u001b[1;32mfor\u001b[0m \u001b[0m_j\u001b[0m \u001b[1;32min\u001b[0m \u001b[0mrange\u001b[0m\u001b[1;33m(\u001b[0m\u001b[0msamp_per_iter\u001b[0m\u001b[1;33m)\u001b[0m\u001b[1;33m:\u001b[0m\u001b[1;33m\u001b[0m\u001b[1;33m\u001b[0m\u001b[0m\n\u001b[1;32m-> 1394\u001b[1;33m                 sim = self.sample_model(\n\u001b[0m\u001b[0;32m   1395\u001b[0m                     \u001b[0mdf\u001b[0m\u001b[1;33m=\u001b[0m\u001b[0mdf\u001b[0m\u001b[1;33m,\u001b[0m\u001b[1;33m\u001b[0m\u001b[1;33m\u001b[0m\u001b[0m\n\u001b[0;32m   1396\u001b[0m                     \u001b[0mseasonal_features\u001b[0m\u001b[1;33m=\u001b[0m\u001b[0mseasonal_features\u001b[0m\u001b[1;33m,\u001b[0m\u001b[1;33m\u001b[0m\u001b[1;33m\u001b[0m\u001b[0m\n",
      "\u001b[1;32m~\\anaconda3\\envs\\qkitchen\\lib\\site-packages\\prophet\\forecaster.py\u001b[0m in \u001b[0;36msample_model\u001b[1;34m(self, df, seasonal_features, iteration, s_a, s_m)\u001b[0m\n\u001b[0;32m   1468\u001b[0m         \u001b[0mDataframe\u001b[0m \u001b[1;32mwith\u001b[0m \u001b[0mtrend\u001b[0m \u001b[1;32mand\u001b[0m \u001b[0myhat\u001b[0m\u001b[1;33m,\u001b[0m \u001b[0meach\u001b[0m \u001b[0mlike\u001b[0m \u001b[0mdf\u001b[0m\u001b[1;33m[\u001b[0m\u001b[1;34m't'\u001b[0m\u001b[1;33m]\u001b[0m\u001b[1;33m.\u001b[0m\u001b[1;33m\u001b[0m\u001b[1;33m\u001b[0m\u001b[0m\n\u001b[0;32m   1469\u001b[0m         \"\"\"\n\u001b[1;32m-> 1470\u001b[1;33m         \u001b[0mtrend\u001b[0m \u001b[1;33m=\u001b[0m \u001b[0mself\u001b[0m\u001b[1;33m.\u001b[0m\u001b[0msample_predictive_trend\u001b[0m\u001b[1;33m(\u001b[0m\u001b[0mdf\u001b[0m\u001b[1;33m,\u001b[0m \u001b[0miteration\u001b[0m\u001b[1;33m)\u001b[0m\u001b[1;33m\u001b[0m\u001b[1;33m\u001b[0m\u001b[0m\n\u001b[0m\u001b[0;32m   1471\u001b[0m \u001b[1;33m\u001b[0m\u001b[0m\n\u001b[0;32m   1472\u001b[0m         \u001b[0mbeta\u001b[0m \u001b[1;33m=\u001b[0m \u001b[0mself\u001b[0m\u001b[1;33m.\u001b[0m\u001b[0mparams\u001b[0m\u001b[1;33m[\u001b[0m\u001b[1;34m'beta'\u001b[0m\u001b[1;33m]\u001b[0m\u001b[1;33m[\u001b[0m\u001b[0miteration\u001b[0m\u001b[1;33m]\u001b[0m\u001b[1;33m\u001b[0m\u001b[1;33m\u001b[0m\u001b[0m\n",
      "\u001b[1;32m~\\anaconda3\\envs\\qkitchen\\lib\\site-packages\\prophet\\forecaster.py\u001b[0m in \u001b[0;36msample_predictive_trend\u001b[1;34m(self, df, iteration)\u001b[0m\n\u001b[0;32m   1499\u001b[0m         \u001b[0mdeltas\u001b[0m \u001b[1;33m=\u001b[0m \u001b[0mself\u001b[0m\u001b[1;33m.\u001b[0m\u001b[0mparams\u001b[0m\u001b[1;33m[\u001b[0m\u001b[1;34m'delta'\u001b[0m\u001b[1;33m]\u001b[0m\u001b[1;33m[\u001b[0m\u001b[0miteration\u001b[0m\u001b[1;33m]\u001b[0m\u001b[1;33m\u001b[0m\u001b[1;33m\u001b[0m\u001b[0m\n\u001b[0;32m   1500\u001b[0m \u001b[1;33m\u001b[0m\u001b[0m\n\u001b[1;32m-> 1501\u001b[1;33m         \u001b[0mt\u001b[0m \u001b[1;33m=\u001b[0m \u001b[0mnp\u001b[0m\u001b[1;33m.\u001b[0m\u001b[0marray\u001b[0m\u001b[1;33m(\u001b[0m\u001b[0mdf\u001b[0m\u001b[1;33m[\u001b[0m\u001b[1;34m't'\u001b[0m\u001b[1;33m]\u001b[0m\u001b[1;33m)\u001b[0m\u001b[1;33m\u001b[0m\u001b[1;33m\u001b[0m\u001b[0m\n\u001b[0m\u001b[0;32m   1502\u001b[0m         \u001b[0mT\u001b[0m \u001b[1;33m=\u001b[0m \u001b[0mt\u001b[0m\u001b[1;33m.\u001b[0m\u001b[0mmax\u001b[0m\u001b[1;33m(\u001b[0m\u001b[1;33m)\u001b[0m\u001b[1;33m\u001b[0m\u001b[1;33m\u001b[0m\u001b[0m\n\u001b[0;32m   1503\u001b[0m \u001b[1;33m\u001b[0m\u001b[0m\n",
      "\u001b[1;31mKeyboardInterrupt\u001b[0m: "
     ]
    }
   ],
   "source": [
    "from prophet.diagnostics import cross_validation\n",
    "forecast = cross_validation(m, initial='10 days', period='10 days', horizon = '10 days')"
   ]
  },
  {
   "cell_type": "code",
   "execution_count": null,
   "id": "seasonal-estate",
   "metadata": {},
   "outputs": [],
   "source": [
    "from prophet.diagnostics import performance_metrics\n",
    "df_p = performance_metrics(forecast)\n",
    "df_p\n"
   ]
  },
  {
   "cell_type": "code",
   "execution_count": 90,
   "id": "classical-anxiety",
   "metadata": {},
   "outputs": [
    {
     "data": {
      "text/plain": [
       "21885.02080171438"
      ]
     },
     "execution_count": 90,
     "metadata": {},
     "output_type": "execute_result"
    }
   ],
   "source": [
    "df_p['rmse'].mean()"
   ]
  },
  {
   "cell_type": "code",
   "execution_count": null,
   "id": "original-reviewer",
   "metadata": {},
   "outputs": [],
   "source": []
  },
  {
   "cell_type": "code",
   "execution_count": null,
   "id": "disciplinary-focus",
   "metadata": {},
   "outputs": [],
   "source": []
  },
  {
   "cell_type": "code",
   "execution_count": null,
   "id": "willing-potato",
   "metadata": {},
   "outputs": [],
   "source": []
  },
  {
   "cell_type": "code",
   "execution_count": 116,
   "id": "tamil-capitol",
   "metadata": {},
   "outputs": [
    {
     "name": "stderr",
     "output_type": "stream",
     "text": [
      "INFO:prophet:Disabling yearly seasonality. Run prophet with yearly_seasonality=True to override this.\n",
      "INFO:prophet:Disabling daily seasonality. Run prophet with daily_seasonality=True to override this.\n"
     ]
    }
   ],
   "source": [
    "m = Prophet(interval_width=1)\n",
    "m.fit(prophet_df)\n",
    "future = m.make_future_dataframe(periods=7)"
   ]
  },
  {
   "cell_type": "code",
   "execution_count": 117,
   "id": "premium-tiffany",
   "metadata": {},
   "outputs": [],
   "source": [
    "forecast = m.predict(future)"
   ]
  },
  {
   "cell_type": "code",
   "execution_count": 118,
   "id": "elegant-fusion",
   "metadata": {},
   "outputs": [],
   "source": [
    "se = np.square(forecast.loc[:, 'yhat'] - df['Bugünkü Vaka Sayısı'])\n",
    "mse = np.mean(se)\n",
    "rmse = np.sqrt(mse)"
   ]
  },
  {
   "cell_type": "code",
   "execution_count": 119,
   "id": "combined-pontiac",
   "metadata": {},
   "outputs": [
    {
     "data": {
      "text/plain": [
       "8106.752240226556"
      ]
     },
     "execution_count": 119,
     "metadata": {},
     "output_type": "execute_result"
    }
   ],
   "source": [
    "rmse"
   ]
  },
  {
   "cell_type": "code",
   "execution_count": null,
   "id": "saved-weekly",
   "metadata": {},
   "outputs": [],
   "source": []
  },
  {
   "cell_type": "markdown",
   "id": "animated-bowling",
   "metadata": {},
   "source": [
    "## Prophet"
   ]
  },
  {
   "cell_type": "code",
   "execution_count": 46,
   "id": "similar-stamp",
   "metadata": {},
   "outputs": [
    {
     "data": {
      "image/png": "[encoded data removed]",
      "text/plain": [
       "<Figure size 720x432 with 1 Axes>"
      ]
     },
     "metadata": {},
     "output_type": "display_data"
    }
   ],
   "source": [
    "fig1 = m.plot(forecast)\n"
   ]
  },
  {
   "cell_type": "code",
   "execution_count": 47,
   "id": "patient-bullet",
   "metadata": {},
   "outputs": [
    {
     "data": {
      "image/png": "[encoded data removed]",
      "text/plain": [
       "<Figure size 648x432 with 2 Axes>"
      ]
     },
     "metadata": {},
     "output_type": "display_data"
    }
   ],
   "source": [
    "ig2 = m.plot_components(forecast)\n"
   ]
  },
  {
   "cell_type": "code",
   "execution_count": null,
   "id": "charming-confidence",
   "metadata": {},
   "outputs": [],
   "source": []
  },
  {
   "cell_type": "code",
   "execution_count": 60,
   "id": "blank-regression",
   "metadata": {},
   "outputs": [],
   "source": [
    "#!pip install pystan==2.19.1.1\n",
    "#!conda install -c conda-forge prophet -y\n",
    "#!pip install prophet"
   ]
  },
  {
   "cell_type": "code",
   "execution_count": 20,
   "id": "realistic-industry",
   "metadata": {
    "scrolled": true
   },
   "outputs": [],
   "source": [
    "from prophet import Prophet"
   ]
  },
  {
   "cell_type": "code",
   "execution_count": 21,
   "id": "mysterious-teens",
   "metadata": {},
   "outputs": [
    {
     "data": {
      "text/html": [
       "<div>\n",
       "<style scoped>\n",
       "    .dataframe tbody tr th:only-of-type {\n",
       "        vertical-align: middle;\n",
       "    }\n",
       "\n",
       "    .dataframe tbody tr th {\n",
       "        vertical-align: top;\n",
       "    }\n",
       "\n",
       "    .dataframe thead th {\n",
       "        text-align: right;\n",
       "    }\n",
       "</style>\n",
       "<table border=\"1\" class=\"dataframe\">\n",
       "  <thead>\n",
       "    <tr style=\"text-align: right;\">\n",
       "      <th></th>\n",
       "      <th>ds</th>\n",
       "      <th>y</th>\n",
       "    </tr>\n",
       "  </thead>\n",
       "  <tbody>\n",
       "    <tr>\n",
       "      <th>0</th>\n",
       "      <td>2020-03-11</td>\n",
       "      <td>1</td>\n",
       "    </tr>\n",
       "    <tr>\n",
       "      <th>1</th>\n",
       "      <td>2020-03-12</td>\n",
       "      <td>0</td>\n",
       "    </tr>\n",
       "    <tr>\n",
       "      <th>2</th>\n",
       "      <td>2020-03-13</td>\n",
       "      <td>4</td>\n",
       "    </tr>\n",
       "    <tr>\n",
       "      <th>3</th>\n",
       "      <td>2020-03-14</td>\n",
       "      <td>1</td>\n",
       "    </tr>\n",
       "    <tr>\n",
       "      <th>4</th>\n",
       "      <td>2020-03-15</td>\n",
       "      <td>12</td>\n",
       "    </tr>\n",
       "    <tr>\n",
       "      <th>...</th>\n",
       "      <td>...</td>\n",
       "      <td>...</td>\n",
       "    </tr>\n",
       "    <tr>\n",
       "      <th>404</th>\n",
       "      <td>2021-04-19</td>\n",
       "      <td>55149</td>\n",
       "    </tr>\n",
       "    <tr>\n",
       "      <th>405</th>\n",
       "      <td>2021-04-20</td>\n",
       "      <td>61028</td>\n",
       "    </tr>\n",
       "    <tr>\n",
       "      <th>406</th>\n",
       "      <td>2021-04-21</td>\n",
       "      <td>61967</td>\n",
       "    </tr>\n",
       "    <tr>\n",
       "      <th>407</th>\n",
       "      <td>2021-04-22</td>\n",
       "      <td>54791</td>\n",
       "    </tr>\n",
       "    <tr>\n",
       "      <th>408</th>\n",
       "      <td>2021-04-23</td>\n",
       "      <td>49438</td>\n",
       "    </tr>\n",
       "  </tbody>\n",
       "</table>\n",
       "<p>409 rows × 2 columns</p>\n",
       "</div>"
      ],
      "text/plain": [
       "             ds      y\n",
       "0    2020-03-11      1\n",
       "1    2020-03-12      0\n",
       "2    2020-03-13      4\n",
       "3    2020-03-14      1\n",
       "4    2020-03-15     12\n",
       "..          ...    ...\n",
       "404  2021-04-19  55149\n",
       "405  2021-04-20  61028\n",
       "406  2021-04-21  61967\n",
       "407  2021-04-22  54791\n",
       "408  2021-04-23  49438\n",
       "\n",
       "[409 rows x 2 columns]"
      ]
     },
     "execution_count": 21,
     "metadata": {},
     "output_type": "execute_result"
    }
   ],
   "source": [
    "prophet_df = df[[\"Tarih\", \"Bugünkü Vaka Sayısı\"]]\n",
    "prophet_df.columns =[\"ds\", \"y\"]\n",
    "prophet_df"
   ]
  },
  {
   "cell_type": "code",
   "execution_count": 22,
   "id": "interior-constitutional",
   "metadata": {},
   "outputs": [
    {
     "name": "stderr",
     "output_type": "stream",
     "text": [
      "INFO:numexpr.utils:NumExpr defaulting to 4 threads.\n",
      "INFO:prophet:Disabling yearly seasonality. Run prophet with yearly_seasonality=True to override this.\n",
      "INFO:prophet:Disabling daily seasonality. Run prophet with daily_seasonality=True to override this.\n"
     ]
    },
    {
     "data": {
      "text/html": [
       "<div>\n",
       "<style scoped>\n",
       "    .dataframe tbody tr th:only-of-type {\n",
       "        vertical-align: middle;\n",
       "    }\n",
       "\n",
       "    .dataframe tbody tr th {\n",
       "        vertical-align: top;\n",
       "    }\n",
       "\n",
       "    .dataframe thead th {\n",
       "        text-align: right;\n",
       "    }\n",
       "</style>\n",
       "<table border=\"1\" class=\"dataframe\">\n",
       "  <thead>\n",
       "    <tr style=\"text-align: right;\">\n",
       "      <th></th>\n",
       "      <th>ds</th>\n",
       "    </tr>\n",
       "  </thead>\n",
       "  <tbody>\n",
       "    <tr>\n",
       "      <th>411</th>\n",
       "      <td>2021-04-26</td>\n",
       "    </tr>\n",
       "    <tr>\n",
       "      <th>412</th>\n",
       "      <td>2021-04-27</td>\n",
       "    </tr>\n",
       "    <tr>\n",
       "      <th>413</th>\n",
       "      <td>2021-04-28</td>\n",
       "    </tr>\n",
       "    <tr>\n",
       "      <th>414</th>\n",
       "      <td>2021-04-29</td>\n",
       "    </tr>\n",
       "    <tr>\n",
       "      <th>415</th>\n",
       "      <td>2021-04-30</td>\n",
       "    </tr>\n",
       "  </tbody>\n",
       "</table>\n",
       "</div>"
      ],
      "text/plain": [
       "            ds\n",
       "411 2021-04-26\n",
       "412 2021-04-27\n",
       "413 2021-04-28\n",
       "414 2021-04-29\n",
       "415 2021-04-30"
      ]
     },
     "execution_count": 22,
     "metadata": {},
     "output_type": "execute_result"
    }
   ],
   "source": [
    "m = Prophet(interval_width=0.95)\n",
    "m.fit(prophet_df)\n",
    "future = m.make_future_dataframe(periods=7, include_history=True)\n",
    "future_confirmed = future.copy() # for non-baseline predictions later on\n",
    "future.tail()"
   ]
  },
  {
   "cell_type": "code",
   "execution_count": 23,
   "id": "confident-judgment",
   "metadata": {},
   "outputs": [],
   "source": [
    "# forecast = m.predict(future)\n",
    "# forecast.tail()"
   ]
  },
  {
   "cell_type": "code",
   "execution_count": 24,
   "id": "revised-advocacy",
   "metadata": {},
   "outputs": [],
   "source": [
    "forecast = m.predict(future)\n",
    "forecast[['ds', 'yhat', 'yhat_lower', 'yhat_upper']].tail()\n",
    "forecast=forecast.join(prophet_df['y'])"
   ]
  },
  {
   "cell_type": "code",
   "execution_count": 25,
   "id": "enclosed-factor",
   "metadata": {},
   "outputs": [
    {
     "name": "stderr",
     "output_type": "stream",
     "text": [
      "INFO:prophet:Making 40 forecasts with cutoffs between 2020-03-19 00:00:00 and 2021-04-13 00:00:00\n",
      "WARNING:prophet:Seasonality has period of 7 days which is larger than initial window. Consider increasing initial.\n",
      "INFO:prophet:Applying in parallel with <concurrent.futures.process.ProcessPoolExecutor object at 0x000001EC1A6C2310>\n"
     ]
    }
   ],
   "source": [
    "from prophet.diagnostics import cross_validation\n",
    "forecast = cross_validation(m, initial='0 days', period='10 days', horizon = '10 days', parallel=\"processes\")"
   ]
  },
  {
   "cell_type": "code",
   "execution_count": 26,
   "id": "informal-aluminum",
   "metadata": {},
   "outputs": [],
   "source": [
    "fr_df=forecast[['ds','yhat', 'y']]"
   ]
  },
  {
   "cell_type": "code",
   "execution_count": 27,
   "id": "operational-stomach",
   "metadata": {},
   "outputs": [
    {
     "name": "stderr",
     "output_type": "stream",
     "text": [
      "C:\\Users\\Laptop\\anaconda3\\envs\\qkitchen\\lib\\site-packages\\pandas\\core\\frame.py:3990: SettingWithCopyWarning: \n",
      "A value is trying to be set on a copy of a slice from a DataFrame\n",
      "\n",
      "See the caveats in the documentation: https://pandas.pydata.org/pandas-docs/stable/user_guide/indexing.html#returning-a-view-versus-a-copy\n",
      "  return super().drop(\n"
     ]
    },
    {
     "data": {
      "text/html": [
       "<div>\n",
       "<style scoped>\n",
       "    .dataframe tbody tr th:only-of-type {\n",
       "        vertical-align: middle;\n",
       "    }\n",
       "\n",
       "    .dataframe tbody tr th {\n",
       "        vertical-align: top;\n",
       "    }\n",
       "\n",
       "    .dataframe thead th {\n",
       "        text-align: right;\n",
       "    }\n",
       "</style>\n",
       "<table border=\"1\" class=\"dataframe\">\n",
       "  <thead>\n",
       "    <tr style=\"text-align: right;\">\n",
       "      <th></th>\n",
       "      <th>yhat</th>\n",
       "      <th>y</th>\n",
       "    </tr>\n",
       "    <tr>\n",
       "      <th>ds</th>\n",
       "      <th></th>\n",
       "      <th></th>\n",
       "    </tr>\n",
       "  </thead>\n",
       "  <tbody>\n",
       "    <tr>\n",
       "      <th>2020-03-20</th>\n",
       "      <td>133.584232</td>\n",
       "      <td>311</td>\n",
       "    </tr>\n",
       "    <tr>\n",
       "      <th>2020-03-21</th>\n",
       "      <td>130.537462</td>\n",
       "      <td>277</td>\n",
       "    </tr>\n",
       "    <tr>\n",
       "      <th>2020-03-22</th>\n",
       "      <td>141.490740</td>\n",
       "      <td>289</td>\n",
       "    </tr>\n",
       "    <tr>\n",
       "      <th>2020-03-23</th>\n",
       "      <td>158.444116</td>\n",
       "      <td>293</td>\n",
       "    </tr>\n",
       "    <tr>\n",
       "      <th>2020-03-24</th>\n",
       "      <td>180.397535</td>\n",
       "      <td>343</td>\n",
       "    </tr>\n",
       "    <tr>\n",
       "      <th>...</th>\n",
       "      <td>...</td>\n",
       "      <td>...</td>\n",
       "    </tr>\n",
       "    <tr>\n",
       "      <th>2021-04-19</th>\n",
       "      <td>29242.079853</td>\n",
       "      <td>55149</td>\n",
       "    </tr>\n",
       "    <tr>\n",
       "      <th>2021-04-20</th>\n",
       "      <td>29969.589349</td>\n",
       "      <td>61028</td>\n",
       "    </tr>\n",
       "    <tr>\n",
       "      <th>2021-04-21</th>\n",
       "      <td>29691.340041</td>\n",
       "      <td>61967</td>\n",
       "    </tr>\n",
       "    <tr>\n",
       "      <th>2021-04-22</th>\n",
       "      <td>30080.753866</td>\n",
       "      <td>54791</td>\n",
       "    </tr>\n",
       "    <tr>\n",
       "      <th>2021-04-23</th>\n",
       "      <td>30229.014180</td>\n",
       "      <td>49438</td>\n",
       "    </tr>\n",
       "  </tbody>\n",
       "</table>\n",
       "<p>400 rows × 2 columns</p>\n",
       "</div>"
      ],
      "text/plain": [
       "                    yhat      y\n",
       "ds                             \n",
       "2020-03-20    133.584232    311\n",
       "2020-03-21    130.537462    277\n",
       "2020-03-22    141.490740    289\n",
       "2020-03-23    158.444116    293\n",
       "2020-03-24    180.397535    343\n",
       "...                  ...    ...\n",
       "2021-04-19  29242.079853  55149\n",
       "2021-04-20  29969.589349  61028\n",
       "2021-04-21  29691.340041  61967\n",
       "2021-04-22  30080.753866  54791\n",
       "2021-04-23  30229.014180  49438\n",
       "\n",
       "[400 rows x 2 columns]"
      ]
     },
     "execution_count": 27,
     "metadata": {},
     "output_type": "execute_result"
    }
   ],
   "source": [
    "fr_df.index = fr_df[\"ds\"]\n",
    "fr_df.index = pd.DatetimeIndex(fr_df.index)\n",
    "fr_df.drop([\"ds\"], axis=1, inplace=True)\n",
    "fr_df"
   ]
  },
  {
   "cell_type": "code",
   "execution_count": 28,
   "id": "public-insurance",
   "metadata": {},
   "outputs": [
    {
     "data": {
      "text/plain": [
       "<matplotlib.legend.Legend at 0x1ec1e116670>"
      ]
     },
     "execution_count": 28,
     "metadata": {},
     "output_type": "execute_result"
    },
    {
     "data": {
      "image/png": "[encoded data removed]",
      "text/plain": [
       "<Figure size 1800x360 with 1 Axes>"
      ]
     },
     "metadata": {
      "needs_background": "light"
     },
     "output_type": "display_data"
    }
   ],
   "source": [
    "fig, ax = plt.subplots(figsize=(25,5))\n",
    "plt.suptitle('GRADIENT BOOSTING REGRESSOR', fontsize = 20)\n",
    "plt.title(\"Test Verisi Üzerinde Gerçek ve Tahmin Vaka Sayıları\")\n",
    "ax.xaxis.set_major_locator(dates.DayLocator(interval = 20))\n",
    "date_form = DateFormatter(\"%Y-%m-%d\")\n",
    "ax.xaxis.set_major_formatter(date_form)\n",
    "plt.xticks(rotation = 50)\n",
    "ax.plot(fr_df['y'],lw=2,color=\"#008000\")\n",
    "ax.plot(fr_df['yhat'],lw=2,color=\"#FF0000\")\n",
    "ax.legend(['Gerçek','Tahmin'])"
   ]
  },
  {
   "cell_type": "code",
   "execution_count": 148,
   "id": "israeli-astrology",
   "metadata": {},
   "outputs": [
    {
     "name": "stderr",
     "output_type": "stream",
     "text": [
      "INFO:prophet:Making 30 forecasts with cutoffs between 2020-06-27 00:00:00 and 2021-04-13 00:00:00\n",
      "INFO:prophet:Applying in parallel with <concurrent.futures.process.ProcessPoolExecutor object at 0x000001FD3BD00130>\n"
     ]
    }
   ],
   "source": [
    "from prophet.diagnostics import cross_validation\n",
    "forecast = cross_validation(m, initial='100 days', period='10 days', horizon = '10 days', parallel=\"processes\")"
   ]
  },
  {
   "cell_type": "code",
   "execution_count": 149,
   "id": "legislative-williams",
   "metadata": {},
   "outputs": [
    {
     "data": {
      "text/html": [
       "<div>\n",
       "<style scoped>\n",
       "    .dataframe tbody tr th:only-of-type {\n",
       "        vertical-align: middle;\n",
       "    }\n",
       "\n",
       "    .dataframe tbody tr th {\n",
       "        vertical-align: top;\n",
       "    }\n",
       "\n",
       "    .dataframe thead th {\n",
       "        text-align: right;\n",
       "    }\n",
       "</style>\n",
       "<table border=\"1\" class=\"dataframe\">\n",
       "  <thead>\n",
       "    <tr style=\"text-align: right;\">\n",
       "      <th></th>\n",
       "      <th>horizon</th>\n",
       "      <th>mse</th>\n",
       "      <th>rmse</th>\n",
       "      <th>mae</th>\n",
       "      <th>mape</th>\n",
       "      <th>mdape</th>\n",
       "      <th>smape</th>\n",
       "      <th>coverage</th>\n",
       "    </tr>\n",
       "  </thead>\n",
       "  <tbody>\n",
       "    <tr>\n",
       "      <th>0</th>\n",
       "      <td>1 days</td>\n",
       "      <td>9.646194e+07</td>\n",
       "      <td>9821.503910</td>\n",
       "      <td>5761.795067</td>\n",
       "      <td>0.475449</td>\n",
       "      <td>0.403826</td>\n",
       "      <td>0.444325</td>\n",
       "      <td>0.666667</td>\n",
       "    </tr>\n",
       "    <tr>\n",
       "      <th>1</th>\n",
       "      <td>2 days</td>\n",
       "      <td>1.142456e+08</td>\n",
       "      <td>10688.574777</td>\n",
       "      <td>6465.342173</td>\n",
       "      <td>0.510571</td>\n",
       "      <td>0.374615</td>\n",
       "      <td>0.484723</td>\n",
       "      <td>0.700000</td>\n",
       "    </tr>\n",
       "    <tr>\n",
       "      <th>2</th>\n",
       "      <td>3 days</td>\n",
       "      <td>1.331451e+08</td>\n",
       "      <td>11538.851414</td>\n",
       "      <td>6859.195432</td>\n",
       "      <td>0.503627</td>\n",
       "      <td>0.427400</td>\n",
       "      <td>0.499268</td>\n",
       "      <td>0.700000</td>\n",
       "    </tr>\n",
       "    <tr>\n",
       "      <th>3</th>\n",
       "      <td>4 days</td>\n",
       "      <td>1.460923e+08</td>\n",
       "      <td>12086.866791</td>\n",
       "      <td>7076.836619</td>\n",
       "      <td>0.523045</td>\n",
       "      <td>0.440478</td>\n",
       "      <td>0.511195</td>\n",
       "      <td>0.700000</td>\n",
       "    </tr>\n",
       "    <tr>\n",
       "      <th>4</th>\n",
       "      <td>5 days</td>\n",
       "      <td>1.379747e+08</td>\n",
       "      <td>11746.264367</td>\n",
       "      <td>7106.170756</td>\n",
       "      <td>0.550882</td>\n",
       "      <td>0.357043</td>\n",
       "      <td>0.510759</td>\n",
       "      <td>0.700000</td>\n",
       "    </tr>\n",
       "    <tr>\n",
       "      <th>5</th>\n",
       "      <td>6 days</td>\n",
       "      <td>1.439937e+08</td>\n",
       "      <td>11999.739505</td>\n",
       "      <td>7390.908609</td>\n",
       "      <td>0.565362</td>\n",
       "      <td>0.425720</td>\n",
       "      <td>0.534878</td>\n",
       "      <td>0.700000</td>\n",
       "    </tr>\n",
       "    <tr>\n",
       "      <th>6</th>\n",
       "      <td>7 days</td>\n",
       "      <td>1.516440e+08</td>\n",
       "      <td>12314.383420</td>\n",
       "      <td>7616.291048</td>\n",
       "      <td>0.583119</td>\n",
       "      <td>0.382014</td>\n",
       "      <td>0.549047</td>\n",
       "      <td>0.700000</td>\n",
       "    </tr>\n",
       "    <tr>\n",
       "      <th>7</th>\n",
       "      <td>8 days</td>\n",
       "      <td>1.588780e+08</td>\n",
       "      <td>12604.683098</td>\n",
       "      <td>7813.168785</td>\n",
       "      <td>0.599385</td>\n",
       "      <td>0.442086</td>\n",
       "      <td>0.568062</td>\n",
       "      <td>0.700000</td>\n",
       "    </tr>\n",
       "    <tr>\n",
       "      <th>8</th>\n",
       "      <td>9 days</td>\n",
       "      <td>1.588974e+08</td>\n",
       "      <td>12605.451323</td>\n",
       "      <td>7966.589134</td>\n",
       "      <td>0.640191</td>\n",
       "      <td>0.443329</td>\n",
       "      <td>0.595086</td>\n",
       "      <td>0.700000</td>\n",
       "    </tr>\n",
       "    <tr>\n",
       "      <th>9</th>\n",
       "      <td>10 days</td>\n",
       "      <td>1.746556e+08</td>\n",
       "      <td>13215.733400</td>\n",
       "      <td>8320.875423</td>\n",
       "      <td>0.660824</td>\n",
       "      <td>0.468111</td>\n",
       "      <td>0.614223</td>\n",
       "      <td>0.633333</td>\n",
       "    </tr>\n",
       "  </tbody>\n",
       "</table>\n",
       "</div>"
      ],
      "text/plain": [
       "  horizon           mse          rmse          mae      mape     mdape  \\\n",
       "0  1 days  9.646194e+07   9821.503910  5761.795067  0.475449  0.403826   \n",
       "1  2 days  1.142456e+08  10688.574777  6465.342173  0.510571  0.374615   \n",
       "2  3 days  1.331451e+08  11538.851414  6859.195432  0.503627  0.427400   \n",
       "3  4 days  1.460923e+08  12086.866791  7076.836619  0.523045  0.440478   \n",
       "4  5 days  1.379747e+08  11746.264367  7106.170756  0.550882  0.357043   \n",
       "5  6 days  1.439937e+08  11999.739505  7390.908609  0.565362  0.425720   \n",
       "6  7 days  1.516440e+08  12314.383420  7616.291048  0.583119  0.382014   \n",
       "7  8 days  1.588780e+08  12604.683098  7813.168785  0.599385  0.442086   \n",
       "8  9 days  1.588974e+08  12605.451323  7966.589134  0.640191  0.443329   \n",
       "9 10 days  1.746556e+08  13215.733400  8320.875423  0.660824  0.468111   \n",
       "\n",
       "      smape  coverage  \n",
       "0  0.444325  0.666667  \n",
       "1  0.484723  0.700000  \n",
       "2  0.499268  0.700000  \n",
       "3  0.511195  0.700000  \n",
       "4  0.510759  0.700000  \n",
       "5  0.534878  0.700000  \n",
       "6  0.549047  0.700000  \n",
       "7  0.568062  0.700000  \n",
       "8  0.595086  0.700000  \n",
       "9  0.614223  0.633333  "
      ]
     },
     "execution_count": 149,
     "metadata": {},
     "output_type": "execute_result"
    }
   ],
   "source": [
    "from prophet.diagnostics import performance_metrics\n",
    "df_p = performance_metrics(forecast)\n",
    "df_p\n"
   ]
  },
  {
   "cell_type": "code",
   "execution_count": 217,
   "id": "innocent-passing",
   "metadata": {},
   "outputs": [
    {
     "data": {
      "text/plain": [
       "11862.205200556673"
      ]
     },
     "execution_count": 217,
     "metadata": {},
     "output_type": "execute_result"
    }
   ],
   "source": [
    "df_p['rmse'].mean()"
   ]
  },
  {
   "cell_type": "code",
   "execution_count": 127,
   "id": "ordinary-medicaid",
   "metadata": {},
   "outputs": [
    {
     "name": "stderr",
     "output_type": "stream",
     "text": [
      "INFO:prophet:Disabling yearly seasonality. Run prophet with yearly_seasonality=True to override this.\n",
      "INFO:prophet:Disabling daily seasonality. Run prophet with daily_seasonality=True to override this.\n"
     ]
    }
   ],
   "source": [
    "m = Prophet(interval_width=0.95)\n",
    "m.fit(prophet_df)\n",
    "future = m.make_future_dataframe(periods=365,include_history=True)"
   ]
  },
  {
   "cell_type": "code",
   "execution_count": 128,
   "id": "maritime-budapest",
   "metadata": {},
   "outputs": [],
   "source": [
    "forecast = m.predict(future)"
   ]
  },
  {
   "cell_type": "code",
   "execution_count": 30,
   "id": "divine-ordering",
   "metadata": {},
   "outputs": [],
   "source": [
    "se = np.square(forecast.loc[:, 'yhat'] - df['Bugünkü Vaka Sayısı'])\n",
    "mse = np.mean(se)\n",
    "rmse = np.sqrt(mse)"
   ]
  },
  {
   "cell_type": "code",
   "execution_count": 31,
   "id": "korean-alexander",
   "metadata": {},
   "outputs": [
    {
     "data": {
      "text/plain": [
       "6954.045070213797"
      ]
     },
     "execution_count": 31,
     "metadata": {},
     "output_type": "execute_result"
    }
   ],
   "source": [
    "rmse"
   ]
  },
  {
   "cell_type": "code",
   "execution_count": 29,
   "id": "increased-indonesian",
   "metadata": {},
   "outputs": [
    {
     "data": {
      "image/png": "[encoded data removed]",
      "text/plain": [
       "<Figure size 720x432 with 1 Axes>"
      ]
     },
     "metadata": {},
     "output_type": "display_data"
    }
   ],
   "source": [
    "fig1 = m.plot(forecast)\n"
   ]
  }
 ],
 "metadata": {
  "kernelspec": {
   "display_name": "Python 3",
   "language": "python",
   "name": "python3"
  },
  "language_info": {
   "codemirror_mode": {
    "name": "ipython",
    "version": 3
   },
   "file_extension": ".py",
   "mimetype": "text/x-python",
   "name": "python",
   "nbconvert_exporter": "python",
   "pygments_lexer": "ipython3",
   "version": "3.8.3"
  }
 },
 "nbformat": 4,
 "nbformat_minor": 5
}
